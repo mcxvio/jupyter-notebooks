{
 "cells": [
  {
   "cell_type": "code",
   "execution_count": 8,
   "metadata": {},
   "outputs": [
    {
     "data": {
      "text/html": [
       "<div style=\"color:green\">twitter.com: Free</div>"
      ],
      "text/plain": [
       "<IPython.core.display.HTML object>"
      ]
     },
     "metadata": {},
     "output_type": "display_data"
    },
    {
     "data": {
      "text/html": [
       "<div style=\"color:green\">yewcrow.blogspot.com: Free</div>"
      ],
      "text/plain": [
       "<IPython.core.display.HTML object>"
      ]
     },
     "metadata": {},
     "output_type": "display_data"
    },
    {
     "data": {
      "text/html": [
       "<div style=\"color:orange\"><a href=\"http://yewcrow.tumblr.com\" target=\"_blank\">yewcrow.tumblr.com</a>: Taken</div>"
      ],
      "text/plain": [
       "<IPython.core.display.HTML object>"
      ]
     },
     "metadata": {},
     "output_type": "display_data"
    },
    {
     "data": {
      "text/html": [
       "<div style=\"color:green\">www.github.com: Free</div>"
      ],
      "text/plain": [
       "<IPython.core.display.HTML object>"
      ]
     },
     "metadata": {},
     "output_type": "display_data"
    },
    {
     "data": {
      "text/html": [
       "<div style=\"color:green\">www.reddit.com: Free</div>"
      ],
      "text/plain": [
       "<IPython.core.display.HTML object>"
      ]
     },
     "metadata": {},
     "output_type": "display_data"
    },
    {
     "data": {
      "text/html": [
       "<div style=\"color:green\">www.instagram.com: Free</div>"
      ],
      "text/plain": [
       "<IPython.core.display.HTML object>"
      ]
     },
     "metadata": {},
     "output_type": "display_data"
    },
    {
     "data": {
      "text/html": [
       "<div style=\"color:green\">www.youtube.com: Free</div>"
      ],
      "text/plain": [
       "<IPython.core.display.HTML object>"
      ]
     },
     "metadata": {},
     "output_type": "display_data"
    },
    {
     "name": "stdout",
     "output_type": "stream",
     "text": [
      ".......\n"
     ]
    }
   ],
   "source": [
    "import ssl\n",
    "import urllib\n",
    "from urllib.request import urlopen\n",
    "from urllib.parse import urlparse\n",
    "from IPython.core.display import display, HTML\n",
    "\n",
    "username = 'name_here'
    "taken = 0\n",
    "\n",
    "urls = [\n",
    "       'https://twitter.com/'+username+'/',\n",
    "       'http://'+username+'.blogspot.com',\n",
    "       'http://'+username+'.tumblr.com',\n",
    "       'https://www.github.com/'+username,\n",
    "       'https://www.reddit.com/user/'+username,\n",
    "       'https://www.instagram.com/'+username+'/',\n",
    "       'https://www.youtube.com/user/'+username+'/'\n",
    "        ]\n",
    "\n",
    "for url in urls:\n",
    "    try:\n",
    "        site = urlparse(url).netloc\n",
    "        ssl._create_default_https_context = ssl._create_unverified_context\n",
    "        with urlopen(url) as response:\n",
    "            if response.getcode() == 200:\n",
    "                taken = taken + 1\n",
    "                display(HTML('<div style=\"color:orange\">' + '<a href=\"' + url + '\" target=\"_blank\">' + site + '</a>' + \": Taken\" + '</div>'))\n",
    "\n",
    "    except urllib.error.HTTPError as e:\n",
    "        display(HTML('<div style=\"color:green\">' + site + \": Free\" + '</div>'))\n",
    "\n",
    "if taken == 0:\n",
    "    print('+++++++')\n",
    "else:\n",
    "    print('.......')"
   ]
  },
  {
   "cell_type": "code",
   "execution_count": null,
   "metadata": {
    "collapsed": true
   },
   "outputs": [],
   "source": []
  }
 ],
 "metadata": {
  "kernelspec": {
   "display_name": "Python 3",
   "language": "python",
   "name": "python3"
  },
  "language_info": {
   "codemirror_mode": {
    "name": "ipython",
    "version": 3
   },
   "file_extension": ".py",
   "mimetype": "text/x-python",
   "name": "python",
   "nbconvert_exporter": "python",
   "pygments_lexer": "ipython3",
   "version": "3.6.3"
  }
 },
 "nbformat": 4,
 "nbformat_minor": 2
}
