{
 "cells": [
  {
   "cell_type": "code",
   "execution_count": 9,
   "metadata": {},
   "outputs": [
    {
     "name": "stdout",
     "output_type": "stream",
     "text": [
      "1642\n"
     ]
    },
    {
     "data": {
      "text/plain": [
       "1642"
      ]
     },
     "execution_count": 9,
     "metadata": {},
     "output_type": "execute_result"
    }
   ],
   "source": [
    "import pandas as pd\n",
    "import numpy as np\n",
    "%matplotlib inline\n",
    "\n",
    "data = pd.read_csv(\"~/Downloads/MyEBirdData.csv\")\n",
    "\n",
    "df = pd.DataFrame(data, columns = ['Submission ID', 'Common Name', 'Count',\n",
    "                                   'State/Province', 'County', 'Location', 'Date', 'Time', 'Duration (Min)'])\n",
    "df['County'].fillna('n/a', inplace=True)\n",
    "df['Count'].replace('X', '1',inplace=True)\n",
    "df['Count'] = df['Count'].astype(int)\n",
    "\n",
    "lp = df.loc[df['Location'] == 'Olmsted Park--Leverett Pond']\n",
    "\n",
    "# Total species records.\n",
    "print(len(lp))\n",
    "lp['Submission ID'].count()\n"
   ]
  },
  {
   "cell_type": "code",
   "execution_count": 2,
   "metadata": {},
   "outputs": [
    {
     "name": "stdout",
     "output_type": "stream",
     "text": [
      "86\n"
     ]
    },
    {
     "data": {
      "text/plain": [
       "86"
      ]
     },
     "execution_count": 2,
     "metadata": {},
     "output_type": "execute_result"
    }
   ],
   "source": [
    "\n",
    "checklists = lp.groupby(['Submission ID']).size().sort_values(ascending=False)\n",
    "\n",
    "# Total checklists\n",
    "print(len(checklists))\n",
    "checklists.count()"
   ]
  },
  {
   "cell_type": "code",
   "execution_count": 3,
   "metadata": {},
   "outputs": [
    {
     "data": {
      "text/plain": [
       "Canada Goose                                     84\n",
       "Mallard                                          78\n",
       "House Sparrow                                    73\n",
       "American Robin                                   67\n",
       "Common Grackle                                   62\n",
       "Common Starling                                  61\n",
       "Mourning Dove                                    60\n",
       "Red-winged Blackbird                             59\n",
       "Blue Jay                                         53\n",
       "Downy Woodpecker                                 50\n",
       "White-breasted Nuthatch                          44\n",
       "Black-capped Chickadee                           43\n",
       "Wood Duck                                        41\n",
       "Warbling Vireo                                   39\n",
       "Double-crested Cormorant                         38\n",
       "Northern Cardinal                                38\n",
       "Song Sparrow                                     37\n",
       "Red-tailed Hawk                                  32\n",
       "Great Blue Heron                                 31\n",
       "Tufted Titmouse                                  31\n",
       "Baltimore Oriole                                 29\n",
       "American Black Duck                              28\n",
       "American Goldfinch                               28\n",
       "Northern Flicker                                 26\n",
       "Yellow-rumped Warbler                            24\n",
       "Tree Swallow                                     24\n",
       "Grey Catbird                                     22\n",
       "Chimney Swift                                    22\n",
       "Red-bellied Woodpecker                           21\n",
       "Eastern Kingbird                                 19\n",
       "                                                 ..\n",
       "Least Sandpiper                                   2\n",
       "Nashville Warbler                                 2\n",
       "Wood Thrush                                       2\n",
       "Hairy Woodpecker                                  2\n",
       "Swainson's Thrush                                 2\n",
       "Wilson's Warbler                                  2\n",
       "Blue-grey Gnatcatcher                             2\n",
       "Eastern Wood-Pewee                                1\n",
       "Gadwall                                           1\n",
       "Lincoln's Sparrow                                 1\n",
       "Turkey Vulture                                    1\n",
       "gull sp.                                          1\n",
       "Blue-winged Teal                                  1\n",
       "Yellow-rumped Warbler (Myrtle)                    1\n",
       "Bald Eagle                                        1\n",
       "Alder/Willow Flycatcher (Traill's Flycatcher)     1\n",
       "Osprey                                            1\n",
       "Northern Mockingbird                              1\n",
       "Least Flycatcher                                  1\n",
       "Lesser Scaup                                      1\n",
       "Rose-breasted Grosbeak                            1\n",
       "Mallard x American Black Duck (hybrid)            1\n",
       "Broad-winged Hawk                                 1\n",
       "Hermit Thrush                                     1\n",
       "Prairie Warbler                                   1\n",
       "Peregrine Falcon                                  1\n",
       "Solitary Sandpiper                                1\n",
       "Great Black-backed Gull                           1\n",
       "Willow Flycatcher                                 1\n",
       "Ovenbird                                          1\n",
       "Name: Common Name, Length: 105, dtype: int64"
      ]
     },
     "execution_count": 3,
     "metadata": {},
     "output_type": "execute_result"
    }
   ],
   "source": [
    "# Species and occurrence on checklists\n",
    "lp['Common Name'].value_counts()\n"
   ]
  },
  {
   "cell_type": "code",
   "execution_count": 4,
   "metadata": {},
   "outputs": [
    {
     "data": {
      "text/plain": [
       "S29564332    41\n",
       "S29732843    40\n",
       "S29585996    36\n",
       "S29636132    33\n",
       "S29416521    32\n",
       "S30009015    30\n",
       "S23488570    30\n",
       "S29361982    29\n",
       "S30667956    28\n",
       "S29306272    28\n",
       "S23324394    28\n",
       "S29798442    27\n",
       "S29514830    26\n",
       "S29706028    26\n",
       "S29236802    26\n",
       "S30855359    25\n",
       "S23187894    25\n",
       "S29463729    24\n",
       "S14091633    23\n",
       "S18380075    23\n",
       "S29449002    23\n",
       "S29039999    23\n",
       "S14092767    22\n",
       "S11877075    22\n",
       "S29137082    22\n",
       "S20578567    22\n",
       "S23659681    22\n",
       "S28449875    22\n",
       "S17253059    22\n",
       "S23653085    21\n",
       "             ..\n",
       "S20378879    16\n",
       "S29011776    16\n",
       "S28241853    15\n",
       "S14564075    15\n",
       "S20235877    15\n",
       "S28566530    15\n",
       "S25494378    13\n",
       "S19543730    13\n",
       "S27787962    13\n",
       "S16435446    13\n",
       "S15328266    13\n",
       "S31544093    13\n",
       "S26982056    12\n",
       "S27110248    12\n",
       "S26381568    12\n",
       "S14564059    11\n",
       "S17587209    11\n",
       "S13389698    11\n",
       "S16751079    11\n",
       "S29211056    11\n",
       "S15178050    11\n",
       "S21639314    10\n",
       "S10967233    10\n",
       "S15123472     9\n",
       "S24864209     9\n",
       "S18947400     9\n",
       "S15087764     8\n",
       "S16466751     7\n",
       "S22680942     5\n",
       "S14165144     3\n",
       "Name: Submission ID, Length: 86, dtype: int64"
      ]
     },
     "execution_count": 4,
     "metadata": {},
     "output_type": "execute_result"
    }
   ],
   "source": [
    "# Species recorded per checklist\n",
    "lp['Submission ID'].value_counts()\n"
   ]
  },
  {
   "cell_type": "code",
   "execution_count": 5,
   "metadata": {},
   "outputs": [
    {
     "name": "stdout",
     "output_type": "stream",
     "text": [
      "105\n"
     ]
    },
    {
     "data": {
      "text/plain": [
       "105"
      ]
     },
     "execution_count": 5,
     "metadata": {},
     "output_type": "execute_result"
    }
   ],
   "source": [
    "\n",
    "species = lp.groupby(['Common Name']).size()#.to_frame('Size')\n",
    "\n",
    "# Total species\n",
    "print(len(species))\n",
    "species.count()"
   ]
  },
  {
   "cell_type": "code",
   "execution_count": 35,
   "metadata": {},
   "outputs": [
    {
     "name": "stdout",
     "output_type": "stream",
     "text": [
      "                          Freq.  Abun.  Occu.\n",
      "Common Name                                  \n",
      "Canada Goose                 84    572  0.977\n",
      "Mallard                      78    487  0.907\n",
      "House Sparrow                73    363  0.849\n",
      "American Robin               67    257  0.779\n",
      "Common Grackle               62    391  0.721\n",
      "Common Starling              61    194  0.709\n",
      "Mourning Dove                60    145  0.698\n",
      "Red-winged Blackbird         59    167  0.686\n",
      "Blue Jay                     53     84  0.616\n",
      "Downy Woodpecker             50     88  0.581\n",
      "White-breasted Nuthatch      44     63  0.512\n",
      "Black-capped Chickadee       43     75  0.500\n",
      "Wood Duck                    41    264  0.477\n",
      "Warbling Vireo               39     85  0.453\n",
      "Northern Cardinal            38     62  0.442\n",
      "Double-crested Cormorant     38     64  0.442\n",
      "Song Sparrow                 37     43  0.430\n",
      "Red-tailed Hawk              32     46  0.372\n",
      "Tufted Titmouse              31     78  0.360\n",
      "Great Blue Heron             31     33  0.360\n"
     ]
    }
   ],
   "source": [
    "\n",
    "x = lp.groupby(['Common Name']).size().to_frame('Freq.')\n",
    "\n",
    "x['Abun.'] = lp.groupby('Common Name')['Count'].sum()#.to_frame('Abun.')\n",
    "\n",
    "x['Occu.'] = x['Freq.'] / len(checklists)\n",
    "x = x.round({'Occu.': 3})\n",
    "\n",
    "x.sort_values(by=['Occu.'], ascending=False)\n",
    "\n",
    "print(x.sort_values(by=['Occu.'], ascending=False).head(20))\n"
   ]
  },
  {
   "cell_type": "code",
   "execution_count": 95,
   "metadata": {},
   "outputs": [
    {
     "data": {
      "text/plain": [
       "<matplotlib.axes._subplots.AxesSubplot at 0x1344ba0f0>"
      ]
     },
     "execution_count": 95,
     "metadata": {},
     "output_type": "execute_result"
    },
    {
     "data": {
      "image/png": "[encoded data removed]",
      "text/plain": [
       "<matplotlib.figure.Figure at 0x134449128>"
      ]
     },
     "metadata": {},
     "output_type": "display_data"
    }
   ],
   "source": [
    "%matplotlib inline\n",
    "#x.plot()\n",
    "x.head(20).plot()"
   ]
  },
  {
   "cell_type": "code",
   "execution_count": 92,
   "metadata": {},
   "outputs": [
    {
     "name": "stdout",
     "output_type": "stream",
     "text": [
      "                                               Count\n",
      "Common Name                                         \n",
      "Alder/Willow Flycatcher (Traill's Flycatcher)      1\n",
      "American Black Duck                               77\n",
      "American Coot (Red-shielded)                      28\n",
      "American Crow                                     11\n",
      "American Goldfinch                                47\n",
      "American Redstart                                 23\n",
      "American Robin                                   257\n",
      "Bald Eagle                                         1\n",
      "Baltimore Oriole                                  78\n",
      "Barn Swallow                                      12\n",
      "Belted Kingfisher                                  2\n",
      "Black-and-white Warbler                           27\n",
      "Black-capped Chickadee                            75\n",
      "Black-crowned Night-Heron                          9\n",
      "Black-throated Blue Warbler                        4\n",
      "Black-throated Green Warbler                       6\n",
      "Blackpoll Warbler                                 19\n",
      "Blue Jay                                          84\n",
      "Blue-grey Gnatcatcher                              2\n",
      "Blue-headed Vireo                                  9\n",
      "Blue-winged Teal                                   1\n",
      "Broad-winged Hawk                                  1\n",
      "Brown Creeper                                      4\n",
      "Brown-headed Cowbird                              13\n",
      "Canada Goose                                     572\n",
      "Cedar Waxwing                                     17\n",
      "Chestnut-sided Warbler                             5\n",
      "Chimney Swift                                     38\n",
      "Chipping Sparrow                                  25\n",
      "Common Grackle                                   391\n",
      "...                                              ...\n",
      "Peregrine Falcon                                   1\n",
      "Prairie Warbler                                    1\n",
      "Red-bellied Woodpecker                            22\n",
      "Red-eyed Vireo                                     8\n",
      "Red-tailed Hawk                                   46\n",
      "Red-winged Blackbird                             167\n",
      "Ring-billed Gull                                  92\n",
      "Ring-necked Duck                                  60\n",
      "Rose-breasted Grosbeak                             1\n",
      "Ruby-crowned Kinglet                               4\n",
      "Ruddy Duck                                         4\n",
      "Savannah Sparrow                                   3\n",
      "Solitary Sandpiper                                 1\n",
      "Song Sparrow                                      43\n",
      "Spotted Sandpiper                                 22\n",
      "Swainson's Thrush                                  2\n",
      "Tree Swallow                                      49\n",
      "Tufted Titmouse                                   78\n",
      "Turkey Vulture                                     1\n",
      "Warbling Vireo                                    85\n",
      "White-breasted Nuthatch                           63\n",
      "White-throated Sparrow                            17\n",
      "Willow Flycatcher                                  1\n",
      "Wilson's Warbler                                   2\n",
      "Wood Duck                                        264\n",
      "Wood Thrush                                        2\n",
      "Yellow Warbler                                    12\n",
      "Yellow-rumped Warbler                            154\n",
      "Yellow-rumped Warbler (Myrtle)                     1\n",
      "gull sp.                                           3\n",
      "\n",
      "[105 rows x 1 columns]\n"
     ]
    },
    {
     "data": {
      "image/png": "[encoded data removed]",
      "text/plain": [
       "<matplotlib.figure.Figure at 0x13436ad30>"
      ]
     },
     "metadata": {},
     "output_type": "display_data"
    }
   ],
   "source": [
    "%matplotlib inline\n",
    "\n",
    "xc = pd.DataFrame(lp, columns = ['Common Name', 'Count'])\n",
    "\n",
    "xc = xc.groupby('Common Name').sum()\n",
    "\n",
    "xc.plot()\n",
    "print(xc)"
   ]
  },
  {
   "cell_type": "code",
   "execution_count": null,
   "metadata": {
    "collapsed": true
   },
   "outputs": [],
   "source": []
  }
 ],
 "metadata": {
  "kernelspec": {
   "display_name": "Python 3",
   "language": "python",
   "name": "python3"
  },
  "language_info": {
   "codemirror_mode": {
    "name": "ipython",
    "version": 3
   },
   "file_extension": ".py",
   "mimetype": "text/x-python",
   "name": "python",
   "nbconvert_exporter": "python",
   "pygments_lexer": "ipython3",
   "version": "3.6.3"
  }
 },
 "nbformat": 4,
 "nbformat_minor": 2
}
